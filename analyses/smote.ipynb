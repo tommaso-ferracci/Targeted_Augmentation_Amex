{
 "cells": [
  {
   "cell_type": "code",
   "execution_count": null,
   "metadata": {},
   "outputs": [],
   "source": [
    "# IDEA COMPARE VALIDATION METRIC BETWEEN:\n",
    "# - BASELINE: AUGMENT ALL DATA KEEPING SAME BALANCE BY 10%\n",
    "# - BETTER: AUGMENT HARDEST 10% BY 100%\n",
    "# THEN REPEAT SAME STUDY WITH WORST 5%, WORST 15%"
   ]
  },
  {
   "cell_type": "code",
   "execution_count": 2,
   "metadata": {},
   "outputs": [],
   "source": [
    "import numpy as np\n",
    "import pandas as pd\n",
    "\n",
    "import sys, os\n",
    "sys.path.append(os.path.join(os.getcwd(), '..'))\n",
    "\n",
    "from src.utils.train_xgb import train_xgb\n",
    "\n",
    "X_train = np.load('../data/processed/train.npz', allow_pickle=True)['x']\n",
    "y_train = np.load('../data/processed/train.npz', allow_pickle=True)['y']\n",
    "X_v = np.load('../data/processed/v.npz', allow_pickle=True)['x']\n",
    "y_v = np.load('../data/processed/v.npz', allow_pickle=True)['y']"
   ]
  },
  {
   "cell_type": "code",
   "execution_count": 4,
   "metadata": {},
   "outputs": [],
   "source": [
    "from imblearn.over_sampling import SMOTE\n",
    "\n",
    "current_class_distribution = pd.Series(y_train).value_counts()\n",
    "majority_class = current_class_distribution.idxmax()\n",
    "minority_class = current_class_distribution.idxmin()\n",
    "\n",
    "sampling_strategy = {\n",
    "    majority_class: int(current_class_distribution[majority_class] * 1.1),\n",
    "    minority_class: int(current_class_distribution[minority_class] * 1.1)\n",
    "}\n",
    "\n",
    "smote = SMOTE(sampling_strategy=sampling_strategy) \n",
    "X_smote, y_smote = smote.fit_resample(X_train, y_train)"
   ]
  },
  {
   "cell_type": "code",
   "execution_count": 6,
   "metadata": {},
   "outputs": [],
   "source": [
    "mean_base, std_base = train_xgb(X_smote, y_smote, X_v, y_v, n=5)"
   ]
  },
  {
   "cell_type": "code",
   "execution_count": 10,
   "metadata": {},
   "outputs": [],
   "source": [
    "knn_5 = pd.read_csv('../outputs/results/knn_5.csv')['0']\n",
    "ind_knn_5 = list(knn_5.sort_values(ascending=True).index)\n",
    "X_hard = X_train[ind_knn_5[:(len(y_train) // 10)]]\n",
    "y_hard = y_train[ind_knn_5[:(len(y_train) // 10)]]\n",
    "X_rest = X_train[ind_knn_5[(len(y_train) // 10):]]\n",
    "y_rest = y_train[ind_knn_5[(len(y_train) // 10):]]\n",
    "\n",
    "current_class_distribution = pd.Series(y_hard).value_counts()\n",
    "majority_class = current_class_distribution.idxmax()\n",
    "minority_class = current_class_distribution.idxmin()\n",
    "\n",
    "sampling_strategy = {\n",
    "    majority_class: int(current_class_distribution[majority_class] * 2),\n",
    "    minority_class: int(current_class_distribution[minority_class] * 2)\n",
    "}\n",
    "\n",
    "smote = SMOTE(sampling_strategy=sampling_strategy) \n",
    "X_smote_hard, y_smote_hard = smote.fit_resample(X_hard, y_hard)\n",
    "\n",
    "X_smote_hard = np.vstack((X_rest, X_smote_hard))\n",
    "y_smote_hard = np.concatenate((y_rest, y_smote_hard))"
   ]
  },
  {
   "cell_type": "code",
   "execution_count": 13,
   "metadata": {},
   "outputs": [],
   "source": [
    "mean_hard, std_hard = train_xgb(X_smote_hard, y_smote_hard, X_v, y_v, n=5)"
   ]
  },
  {
   "cell_type": "code",
   "execution_count": 14,
   "metadata": {},
   "outputs": [
    {
     "data": {
      "text/plain": [
       "0.9198622376502286"
      ]
     },
     "execution_count": 14,
     "metadata": {},
     "output_type": "execute_result"
    }
   ],
   "source": [
    "mean_base"
   ]
  },
  {
   "cell_type": "code",
   "execution_count": 15,
   "metadata": {},
   "outputs": [
    {
     "data": {
      "text/plain": [
       "0.9186758648040693"
      ]
     },
     "execution_count": 15,
     "metadata": {},
     "output_type": "execute_result"
    }
   ],
   "source": [
    "mean_hard # MUCH WORSE!"
   ]
  },
  {
   "cell_type": "code",
   "execution_count": 16,
   "metadata": {},
   "outputs": [
    {
     "data": {
      "text/plain": [
       "0.9197627231724054"
      ]
     },
     "execution_count": 16,
     "metadata": {},
     "output_type": "execute_result"
    }
   ],
   "source": [
    "# DID WE SEE ANY IMPROVEMENT?\n",
    "mean, std = train_xgb(X_train, y_train, X_v, y_v, n=5)\n",
    "mean"
   ]
  }
 ],
 "metadata": {
  "kernelspec": {
   "display_name": "amex_env",
   "language": "python",
   "name": "python3"
  },
  "language_info": {
   "codemirror_mode": {
    "name": "ipython",
    "version": 3
   },
   "file_extension": ".py",
   "mimetype": "text/x-python",
   "name": "python",
   "nbconvert_exporter": "python",
   "pygments_lexer": "ipython3",
   "version": "3.10.12"
  }
 },
 "nbformat": 4,
 "nbformat_minor": 2
}
