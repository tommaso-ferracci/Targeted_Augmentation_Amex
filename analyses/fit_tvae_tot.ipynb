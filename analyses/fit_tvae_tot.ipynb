{
 "cells": [
  {
   "cell_type": "code",
   "execution_count": null,
   "metadata": {},
   "outputs": [],
   "source": [
    "import sys, os\n",
    "sys.path.append(os.path.join(os.getcwd(), '..'))\n",
    "\n",
    "import numpy as np\n",
    "import pandas as pd\n",
    "\n",
    "# Import data and create DataFrame of data to augment\n",
    "X_train = np.load('../data/processed/train.npz')['x']\n",
    "y_train = np.load('../data/processed/train.npz')['y']\n",
    "X_v = np.load('../data/processed/v.npz')['x']\n",
    "y_v = np.load('../data/processed/v.npz')['y']"
   ]
  },
  {
   "cell_type": "code",
   "execution_count": null,
   "metadata": {},
   "outputs": [],
   "source": [
    "X_train_df = pd.DataFrame(X_train)\n",
    "X_train_df['target'] = y_train\n",
    "\n",
    "# Infer metadata: categorical and numeric features\n",
    "from sdv.metadata import SingleTableMetadata\n",
    "metadata = SingleTableMetadata()\n",
    "metadata.detect_from_dataframe(X_train_df)"
   ]
  },
  {
   "cell_type": "code",
   "execution_count": null,
   "metadata": {},
   "outputs": [],
   "source": [
    "from sdv.single_table import TVAESynthesizer\n",
    "\n",
    "synthesizer = TVAESynthesizer(\n",
    "    metadata, # required\n",
    "    save_path='../outputs/synthesizers/tvae_tot.pkl',\n",
    "    batch_size=100000,\n",
    "    compress_dims = (128, 128),\n",
    "    decompress_dims = (128, 128),\n",
    "    epochs=500,\n",
    "    embedding_dim=64,\n",
    "    cuda='cuda:2',\n",
    "    verbose=True,\n",
    "    patience=50,\n",
    "    weights=pd.read_csv('../outputs/results/feature_importances.csv')['gain'].values\n",
    ")\n",
    "\n",
    "synthesizer.fit(X_train_df)"
   ]
  },
  {
   "cell_type": "code",
   "execution_count": null,
   "metadata": {},
   "outputs": [],
   "source": [
    "%config InlineBackend.figure_format = 'svg'\n",
    "import matplotlib.pyplot as plt\n",
    "\n",
    "losses = synthesizer.get_loss_values().groupby('Epoch').mean()\n",
    "\n",
    "plt.rc('font', family='serif')\n",
    "plt.rc('axes', grid=True)\n",
    "plt.rcParams['grid.color'] = (0.5, 0.5, 0.5, 0.2)\n",
    "plt.rc('ytick', direction='out', color='gray')\n",
    "plt.rc('xtick', direction='out', color='gray')\n",
    "plt.rcParams.update({'font.size': 12})\n",
    "\n",
    "fig, axes = plt.subplots(1, 2, figsize=(14, 5))\n",
    "axes[0].plot(range(1, len(losses) + 1), losses['Loss'], lw=1, color='lightskyblue')\n",
    "axes[0].set_xlabel('Epoch')\n",
    "axes[0].set_ylabel('Loss')\n",
    "\n",
    "axes[1].plot(range(1, len(losses) + 1), losses['KS'], lw=1, color='lightskyblue')\n",
    "axes[1].set_xlabel('Epoch')\n",
    "axes[1].set_ylabel('Weighted Kolgomorov-Smirnov statistic')\n",
    "\n",
    "fig.savefig('../outputs/figures/tvae_loss_tot.pdf', dpi=300, bbox_inches='tight');"
   ]
  },
  {
   "cell_type": "code",
   "execution_count": null,
   "metadata": {},
   "outputs": [],
   "source": [
    "from ctgan import TVAE\n",
    "\n",
    "synthesizer = TVAE.load('../outputs/synthesizers/tvae_tot.pkl')"
   ]
  },
  {
   "cell_type": "code",
   "execution_count": null,
   "metadata": {},
   "outputs": [],
   "source": [
    "synthetic_data = synthesizer.sample(len(X_train_df))\n",
    "\n",
    "X_train_df.columns = [str(c) for c in X_train_df.columns]\n",
    "synthetic_data.columns = [str(c) for c in synthetic_data.columns]\n",
    "\n",
    "true_def_0 = X_train_df['0'][X_train_df['target'] == 1]\n",
    "synth_def_0 = synthetic_data['0'][synthetic_data['target'] == 1]\n",
    "\n",
    "true_nondef_0 = X_train_df['0'][X_train_df['target'] == 0]\n",
    "synth_nondef_0 = synthetic_data['0'][synthetic_data['target'] == 0]\n",
    "\n",
    "fig, axes = plt.subplots(1, 2, figsize=(14, 5))\n",
    "# Feature 0\n",
    "min_v, max_v = -0.5, 1.1\n",
    "bin_width = (max_v - min_v) / 30\n",
    "bin_edges = np.arange(min_v, max_v + bin_width, bin_width)\n",
    "axes[0].hist(true_def_0.values, bins=bin_edges, edgecolor='dimgray', color='lightskyblue', lw=0.1, alpha=0.6, density=True, label='True')\n",
    "axes[0].hist(synth_def_0.values, bins=bin_edges, edgecolor='dimgray', color='sandybrown', lw=0.1, alpha=0.6, density=True, label='Synthetic')\n",
    "axes[0].set_xlabel('Feature 0 - defaulters')\n",
    "axes[0].set_ylabel('Density')\n",
    "axes[0].grid(axis='x')\n",
    "axes[0].legend(loc='upper left')\n",
    "axes[0].set_yticks([0, 0.5, 1, 1.5, 2, 2.5, 3, 3.5])\n",
    "\n",
    "axes[1].hist(true_nondef_0.values, bins=bin_edges, edgecolor='dimgray', color='lightskyblue', lw=0.1, alpha=0.6, density=True)\n",
    "axes[1].hist(synth_nondef_0.values, bins=bin_edges, edgecolor='dimgray', color='sandybrown', lw=0.1, alpha=0.6, density=True)\n",
    "axes[1].set_xlabel('Feature 0 - non-defaulters')\n",
    "axes[1].grid(axis='x')\n",
    "axes[1].set_yticks([0, 0.5, 1, 1.5, 2, 2.5, 3, 3.5])\n",
    "\n",
    "fig.savefig('../outputs/figures/tvae_hist_tot.pdf', dpi=300, bbox_inches='tight');"
   ]
  }
 ],
 "metadata": {
  "kernelspec": {
   "display_name": "amex_env",
   "language": "python",
   "name": "python3"
  },
  "language_info": {
   "codemirror_mode": {
    "name": "ipython",
    "version": 3
   },
   "file_extension": ".py",
   "mimetype": "text/x-python",
   "name": "python",
   "nbconvert_exporter": "python",
   "pygments_lexer": "ipython3",
   "version": "3.10.12"
  }
 },
 "nbformat": 4,
 "nbformat_minor": 2
}
