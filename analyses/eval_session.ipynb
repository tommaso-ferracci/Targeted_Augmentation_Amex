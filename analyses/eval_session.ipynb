{
 "cells": [
  {
   "cell_type": "code",
   "execution_count": null,
   "metadata": {},
   "outputs": [],
   "source": [
    "import pickle\n",
    "import numpy as np\n",
    "\n",
    "with open('../outputs/synthesizers/scores_hard.pkl', 'rb') as f:\n",
    "    existing_data = pickle.load(f)\n",
    "with open('../outputs/synthesizers/hyperparams_hard.pkl', 'rb') as f:\n",
    "    existing_params = pickle.load(f)\n",
    "\n",
    "cat = [d['mod_name'] for d in existing_params]\n",
    "scores = [np.mean(e) for e in existing_data]\n",
    "stds = [1.96 * np.std(e) / np.sqrt(10) for e in existing_data]"
   ]
  },
  {
   "cell_type": "code",
   "execution_count": null,
   "metadata": {},
   "outputs": [],
   "source": [
    "# SMOTE\n",
    "with open('../outputs/synthesizers/smote_base.pkl', 'rb') as f:\n",
    "    smote = pickle.load(f)\n",
    "with open('../outputs/synthesizers/smote_hard.pkl', 'rb') as f:\n",
    "    smote_hard = pickle.load(f)\n",
    "\n",
    "print(np.mean(smote))\n",
    "print(np.mean(smote_hard))"
   ]
  },
  {
   "cell_type": "code",
   "execution_count": null,
   "metadata": {},
   "outputs": [],
   "source": [
    "%config InlineBackend.figure_format = 'svg'\n",
    "import matplotlib.pyplot as plt\n",
    "from matplotlib.ticker import MaxNLocator\n",
    "\n",
    "plt.rc('font', family='serif')\n",
    "plt.rc('ytick', direction='out', color='gray')\n",
    "plt.rc('xtick', direction='out', color='gray')\n",
    "plt.rcParams.update({'font.size': 12})\n",
    "\n",
    "category_colors = {'TVAE': 'yellowgreen', 'CTGAN': 'sandybrown'}\n",
    "\n",
    "plt.rc('axes', grid=True)\n",
    "plt.rcParams['grid.color'] = (0.5, 0.5, 0.5, 0.2)\n",
    "\n",
    "fig, ax = plt.subplots(1, 1, figsize=(8, 5))\n",
    "seen_categories = set()\n",
    "for x, y, yerr, cat in zip(range(len(existing_data)), scores, stds, cat):\n",
    "    color = category_colors[cat]\n",
    "    ax.errorbar(x, y, yerr=yerr, fmt='o', color=color, ecolor=color, capsize=3, markersize=3, alpha=1.)\n",
    "    ax.plot(x, y, 'o', color=color, markersize=3, alpha=1)\n",
    "    if cat not in seen_categories:\n",
    "        ax.errorbar([], [], [], fmt='o', color=color, ecolor=color, capsize=3, markersize=3, alpha=1., label=cat)\n",
    "        seen_categories.add(cat)\n",
    "ax.axhline(0, ls='--', lw=1, color='lightgray')\n",
    "ax.set_xlim((-1, len(existing_data)))\n",
    "ax.set_ylim((-0.00015, 0.00045))\n",
    "ax.set_xlabel('ID in Bayesian optimisation')\n",
    "ax.set_ylabel('Variation in Gini after augmentation')\n",
    "ax.set_title('Augment hardest $10\\%$ by $100\\%$')\n",
    "ax.xaxis.set_major_locator(MaxNLocator(integer=True))\n",
    "ax.legend()\n",
    "ax.grid(axis='x')\n",
    "fig.savefig('../outputs/figures/tuning.pdf', dpi=300, bbox_inches='tight')"
   ]
  },
  {
   "cell_type": "code",
   "execution_count": null,
   "metadata": {},
   "outputs": [],
   "source": [
    "with open('../outputs/synthesizers/scores_tot.pkl', 'rb') as f:\n",
    "    existing_data_tot = pickle.load(f)\n",
    "with open('../outputs/synthesizers/hyperparams_tot.pkl', 'rb') as f:\n",
    "    existing_params_tot = pickle.load(f)\n",
    "\n",
    "cat = [d['mod_name'] for d in existing_params_tot]\n",
    "scores = [np.mean(e) for e in existing_data_tot]\n",
    "stds = [1.96 * np.std(e) / np.sqrt(10) for e in existing_data_tot]\n",
    "\n",
    "%config InlineBackend.figure_format = 'svg'\n",
    "import matplotlib.pyplot as plt\n",
    "from matplotlib.ticker import MaxNLocator\n",
    "\n",
    "plt.rc('font', family='serif')\n",
    "plt.rc('ytick', direction='out', color='gray')\n",
    "plt.rc('xtick', direction='out', color='gray')\n",
    "plt.rcParams.update({'font.size': 12})\n",
    "\n",
    "category_colors = {'TVAE': 'yellowgreen', 'CTGAN': 'sandybrown'}\n",
    "\n",
    "fig, ax = plt.subplots(1, 1, figsize=(8, 5))\n",
    "seen_categories = set()\n",
    "for x, y, yerr, cat in zip(range(len(existing_data_tot)), scores, stds, cat):\n",
    "    color = category_colors[cat]\n",
    "    ax.errorbar(x, y, yerr=yerr, fmt='o', color=color, ecolor=color, capsize=3, markersize=3, alpha=1.)\n",
    "    ax.plot(x, y, 'o', color=color, markersize=3, alpha=1)\n",
    "    if cat not in seen_categories:\n",
    "        ax.errorbar([], [], [], fmt='o', color=color, ecolor=color, capsize=3, markersize=3, alpha=1., label=cat)\n",
    "        seen_categories.add(cat)\n",
    "ax.axhline(0, ls='--', lw=1, color='lightgray')\n",
    "ax.set_xlim((-1, len(existing_data_tot)))\n",
    "ax.set_ylim((-0.00015, 0.00045))\n",
    "ax.set_xlabel('ID in Bayesian optimisation')\n",
    "ax.set_ylabel('Variation in Gini after augmentation')\n",
    "ax.set_title('Augment by $10\\%$')\n",
    "ax.xaxis.set_major_locator(MaxNLocator(integer=True))\n",
    "ax.grid(axis='x')\n",
    "fig.savefig('../outputs/figures/tuning_tot.pdf', dpi=300, bbox_inches='tight')"
   ]
  },
  {
   "cell_type": "code",
   "execution_count": null,
   "metadata": {},
   "outputs": [],
   "source": [
    "# Best TVAE hard\n",
    "existing_params[0]"
   ]
  },
  {
   "cell_type": "code",
   "execution_count": null,
   "metadata": {},
   "outputs": [],
   "source": [
    "# Best CTGAN hard\n",
    "existing_params[3]"
   ]
  },
  {
   "cell_type": "code",
   "execution_count": null,
   "metadata": {},
   "outputs": [],
   "source": [
    "# Best TVAE tot\n",
    "existing_params_tot[3]"
   ]
  },
  {
   "cell_type": "code",
   "execution_count": null,
   "metadata": {},
   "outputs": [],
   "source": [
    "# Best CTGAN tot\n",
    "existing_params_tot[1]"
   ]
  }
 ],
 "metadata": {
  "kernelspec": {
   "display_name": "Python 3",
   "language": "python",
   "name": "python3"
  },
  "language_info": {
   "codemirror_mode": {
    "name": "ipython",
    "version": 3
   },
   "file_extension": ".py",
   "mimetype": "text/x-python",
   "name": "python",
   "nbconvert_exporter": "python",
   "pygments_lexer": "ipython3",
   "version": "3.10.12"
  }
 },
 "nbformat": 4,
 "nbformat_minor": 2
}
