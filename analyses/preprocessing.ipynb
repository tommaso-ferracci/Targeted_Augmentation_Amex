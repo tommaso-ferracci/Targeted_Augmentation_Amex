{
 "cells": [
  {
   "cell_type": "code",
   "execution_count": null,
   "metadata": {},
   "outputs": [],
   "source": [
    "import numpy as np\n",
    "import pandas as pd"
   ]
  },
  {
   "cell_type": "code",
   "execution_count": null,
   "metadata": {},
   "outputs": [],
   "source": [
    "df = pd.read_parquet('../data/raw/train.parquet')\n",
    "print(df.shape)\n",
    "df.head()"
   ]
  },
  {
   "cell_type": "code",
   "execution_count": null,
   "metadata": {},
   "outputs": [],
   "source": [
    "def hex_to_int(hex_string):\n",
    "    last_16_chars = hex_string[-16:]\n",
    "    return int(last_16_chars, 16)\n",
    "\n",
    "df['customer_ID'] = df['customer_ID'].apply(hex_to_int).astype('int64')\n",
    "df['S_2'] = pd.to_datetime(df['S_2'])\n",
    "df = df.fillna(-127)\n",
    "# NA data contains signal: it cannot just be dropped\n",
    "# We impute an integer for compatibility with categirical columns\n",
    "# We want the value to be out of range for most features\n",
    "df.head()"
   ]
  },
  {
   "cell_type": "code",
   "execution_count": null,
   "metadata": {},
   "outputs": [],
   "source": [
    "''' Feature aggregation based on https://www.kaggle.com/code/cdeotte/xgboost-starter-0-793, too expensive for data augmentation.\n",
    "def process_and_feature_engineer(df):\n",
    "\n",
    "    cs = [c for c in list(df.columns) if c not in ['customer_ID', 'S_2']]\n",
    "    cat_features = ['B_30', 'B_31', 'B_38', 'D_114', 'D_116', 'D_117', 'D_120', 'D_126', 'D_63', 'D_64', 'D_66', 'D_68', 'D_87']\n",
    "    num_features = [c for c in cs if c not in cat_features]\n",
    "\n",
    "    # Careful: std assumes 1 dof and will return NaN if just one value\n",
    "    test_num_agg = df.groupby('customer_ID')[num_features].agg(['mean', 'std', 'min', 'max', 'last']).fillna(0)\n",
    "    test_num_agg.columns = ['_'.join(x) for x in test_num_agg.columns]\n",
    "\n",
    "    test_cat_agg = df.groupby('customer_ID')[cat_features].agg(['last', 'nunique'])\n",
    "    test_cat_agg.columns = ['_'.join(x) for x in test_cat_agg.columns]\n",
    "\n",
    "    df = pd.concat([test_num_agg, test_cat_agg], axis=1)\n",
    "    del test_num_agg, test_cat_agg    \n",
    "    return df\n",
    "\n",
    "features = process_and_feature_engineer(df)\n",
    "print(features.shape)\n",
    "'''\n",
    "\n",
    "most_recent_indices = df.groupby('customer_ID')['S_2'].idxmax()\n",
    "features = df.loc[most_recent_indices]\n",
    "features = features.set_index('customer_ID')\n",
    "print(features.shape)"
   ]
  },
  {
   "cell_type": "code",
   "execution_count": null,
   "metadata": {},
   "outputs": [],
   "source": [
    "targets = pd.read_csv('../data/raw/train_labels.csv')\n",
    "targets['customer_ID'] = targets['customer_ID'].apply(hex_to_int).astype('int64')\n",
    "targets = targets.set_index('customer_ID')\n",
    "train_data = features.merge(targets, left_index=True, right_index=True, how='left')\n",
    "train_data['target'] = train_data['target'].astype('int8')\n",
    "print(train_data.shape)\n",
    "train_data.head()"
   ]
  },
  {
   "cell_type": "code",
   "execution_count": null,
   "metadata": {},
   "outputs": [],
   "source": [
    "from sklearn.model_selection import train_test_split\n",
    "\n",
    "train_data.to_csv('../data/processed/train.csv')\n",
    "X = train_data.drop(columns=['S_2', 'target']).values\n",
    "y = train_data['target'].values\n",
    "\n",
    "''' In practice, categorical columns have minimal impact on model performance.\n",
    "feature_cols = list(X.columns)\n",
    "cat_features = ['B_30', 'B_31', 'B_38', 'D_114', 'D_116', 'D_117', 'D_120', 'D_126', 'D_63', 'D_64', 'D_66', 'D_68', 'D_87']\n",
    "num_features = [c for c in feature_cols if c not in cat_features]\n",
    "X = X[num_features]\n",
    "'''\n",
    "\n",
    "# 50000 for model validation, 50000 for data valuation, rest for training\n",
    "X_train, X_, y_train, y_ = train_test_split(X, y, test_size=100000, random_state=42, stratify=y)\n",
    "X_test, X_v, y_test, y_v = train_test_split(X_, y_, test_size=0.5, random_state=42, stratify=y_)\n",
    "\n",
    "np.savez('../data/processed/train', x=X_train, y=y_train)\n",
    "np.savez('../data/processed/test', x=X_test, y=y_test)\n",
    "np.savez('../data/processed/v', x=X_v, y=y_v)"
   ]
  }
 ],
 "metadata": {
  "kernelspec": {
   "display_name": "amex",
   "language": "python",
   "name": "python3"
  },
  "language_info": {
   "codemirror_mode": {
    "name": "ipython",
    "version": 3
   },
   "file_extension": ".py",
   "mimetype": "text/x-python",
   "name": "python",
   "nbconvert_exporter": "python",
   "pygments_lexer": "ipython3",
   "version": "3.10.12"
  }
 },
 "nbformat": 4,
 "nbformat_minor": 2
}
