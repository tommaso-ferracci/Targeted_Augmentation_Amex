{
 "cells": [
  {
   "cell_type": "code",
   "execution_count": null,
   "metadata": {
    "execution": {
     "iopub.execute_input": "2024-07-16T10:31:59.432707Z",
     "iopub.status.busy": "2024-07-16T10:31:59.432099Z",
     "iopub.status.idle": "2024-07-16T10:32:00.490610Z",
     "shell.execute_reply": "2024-07-16T10:32:00.489746Z"
    }
   },
   "outputs": [],
   "source": [
    "# Compare hardness characterization by removing the \"hard\" points first\n",
    "import numpy as np\n",
    "import pandas as pd\n",
    "\n",
    "X_train = np.load('../data/processed/train.npz')['x']\n",
    "y_train = np.load('../data/processed/train.npz')['y']\n",
    "X_v = np.load('../data/processed/v.npz')['x']\n",
    "y_v = np.load('../data/processed/v.npz')['y']\n",
    "\n",
    "knn_1 = pd.read_csv('../outputs/results/knn_1.csv')['0']\n",
    "knn_5 = pd.read_csv('../outputs/results/knn_5.csv')['0']\n",
    "knn_100 = pd.read_csv('../outputs/results/knn_100.csv')['0']\n",
    "uncertainty = pd.read_csv('../outputs/results/aleatoric.csv')['0']\n",
    "confidence = pd.read_csv('../outputs/results/confidence.csv')['0']\n",
    "# forget = pd.read_csv('../outputs/results/forget.csv')['0']\n",
    "# learnt = pd.read_csv('../outputs/results/learnt.csv')['0']"
   ]
  },
  {
   "cell_type": "code",
   "execution_count": null,
   "metadata": {
    "execution": {
     "iopub.execute_input": "2024-07-16T10:32:00.495631Z",
     "iopub.status.busy": "2024-07-16T10:32:00.495423Z",
     "iopub.status.idle": "2024-07-16T10:32:00.697492Z",
     "shell.execute_reply": "2024-07-16T10:32:00.696686Z"
    }
   },
   "outputs": [],
   "source": [
    "# KNN - Hardest first\n",
    "ind_knn_1 = list(knn_1.sort_values(ascending=True).index)\n",
    "ind_knn_5 = list(knn_5.sort_values(ascending=True).index)\n",
    "ind_knn_100 = list(knn_100.sort_values(ascending=True).index)\n",
    "\n",
    "# DataIQ - Divide in Hard/Easy/Ambiguous\n",
    "uncertainty_thresh = 0.2\n",
    "thresh = 0.25\n",
    "conf_thresh_low = thresh\n",
    "conf_thresh_high = 1 - thresh\n",
    "conf_thresh = 0.5\n",
    "\n",
    "hard_scores = confidence[(confidence <= conf_thresh_low) & (uncertainty <= uncertainty_thresh)]\n",
    "easy_scores = confidence[(confidence >= conf_thresh_high) & (uncertainty <= uncertainty_thresh)]\n",
    "ambig_scores = uncertainty[((confidence > conf_thresh_low) & (confidence < conf_thresh_high)) | (uncertainty > uncertainty_thresh)]\n",
    "\n",
    "# Now hardest first, then most ambiguous, then easy\n",
    "ind_hard = pd.Series(hard_scores).sort_values(ascending=True).index \n",
    "ind_easy = pd.Series(easy_scores).sort_values(ascending=True).index\n",
    "ind_ambig = pd.Series(ambig_scores).sort_values(ascending=False).index\n",
    "ind_dataiq = list(np.concatenate((ind_hard, ind_ambig, ind_easy)))\n",
    "\n",
    "# Forget - Hardest are the ones forgotten most often\n",
    "# ind_forget = pd.Series(forget).sort_values(ascending=False).index"
   ]
  },
  {
   "cell_type": "code",
   "execution_count": null,
   "metadata": {
    "execution": {
     "iopub.execute_input": "2024-07-16T10:32:00.702377Z",
     "iopub.status.busy": "2024-07-16T10:32:00.702169Z",
     "iopub.status.idle": "2024-07-17T01:59:50.966729Z",
     "shell.execute_reply": "2024-07-17T01:59:50.965749Z"
    }
   },
   "outputs": [],
   "source": [
    "import sys, os\n",
    "sys.path.append(os.path.join(os.getcwd(), '..'))\n",
    "\n",
    "from src.utils.train_xgb import remove_hard\n",
    "\n",
    "knn_1_means, knn_1_stds = remove_hard(X_train, y_train, X_v, y_v, ind_knn_1, n=5000, k=10)\n",
    "knn_5_means, knn_5_stds = remove_hard(X_train, y_train, X_v, y_v, ind_knn_5, n=5000, k=10)\n",
    "knn_100_means, knn_100_stds = remove_hard(X_train, y_train, X_v, y_v, ind_knn_100, n=5000, k=10)\n",
    "dataiq_means, dataiq_stds = remove_hard(X_train, y_train, X_v, y_v, ind_dataiq, n=5000, k=10)\n",
    "# forget_means, forget_stds = remove_hard(X_train, y_train, X_v, y_v, ind_forget, n=5000, k=10)\n",
    "ind_rand = np.random.permutation(len(X_train))\n",
    "rand_means, rand_stds = remove_hard(X_train, y_train, X_v, y_v, ind_rand, n=5000, k=10)"
   ]
  },
  {
   "cell_type": "code",
   "execution_count": null,
   "metadata": {
    "execution": {
     "iopub.execute_input": "2024-07-17T01:59:50.971833Z",
     "iopub.status.busy": "2024-07-17T01:59:50.970760Z",
     "iopub.status.idle": "2024-07-17T01:59:52.506003Z",
     "shell.execute_reply": "2024-07-17T01:59:52.505180Z"
    }
   },
   "outputs": [],
   "source": [
    "%config InlineBackend.figure_format = 'svg'\n",
    "import matplotlib.pyplot as plt\n",
    "\n",
    "plt.rc('font', family='serif')\n",
    "plt.rc('axes', grid=True)\n",
    "plt.rcParams['grid.color'] = (0.5, 0.5, 0.5, 0.2)\n",
    "plt.rc('ytick', direction='out', color='gray')\n",
    "plt.rc('xtick', direction='out', color='gray')\n",
    "plt.rcParams.update({'font.size': 12})\n",
    "\n",
    "fig, ax = plt.subplots(1, 1, figsize=(10, 7))\n",
    "n, k = 5000, 10\n",
    "ns = [_ * n for _ in range(k + 1)]\n",
    "frac_removed = [(1 - (len(X_train) - n) / len(X_train)) * 100 for n in ns]\n",
    "ax.plot(frac_removed, knn_1_means, lw=1, label='1NN')\n",
    "ax.fill_between(frac_removed, knn_1_means - 1.96 * np.array(knn_1_stds) / np.sqrt(10), knn_1_means + 1.96 * np.array(knn_1_stds) / np.sqrt(10), alpha=0.3)\n",
    "ax.plot(frac_removed, knn_5_means, lw=1, label='5NN')\n",
    "ax.fill_between(frac_removed, knn_5_means - 1.96 * np.array(knn_5_stds) / np.sqrt(10), knn_5_means + 1.96 * np.array(knn_5_stds) / np.sqrt(10), alpha=0.3)\n",
    "ax.plot(frac_removed, knn_100_means, lw=1, label='100NN')\n",
    "ax.fill_between(frac_removed, knn_100_means - 1.96 * np.array(knn_100_stds) / np.sqrt(10), knn_100_means + 1.96 * np.array(knn_100_stds) / np.sqrt(10), alpha=0.3)\n",
    "ax.plot(frac_removed, dataiq_means, lw=1, label='DataIQ')\n",
    "ax.fill_between(frac_removed, dataiq_means - 1.96 * np.array(dataiq_stds) / np.sqrt(10), dataiq_means + 1.96 * np.array(dataiq_stds) / np.sqrt(10), alpha=0.3)\n",
    "#ax.plot(frac_removed, forget_means, lw=1, label='Forget')\n",
    "# ax.fill_between(frac_removed, forget_means - 1.96 * np.array(forget_stds) / np.sqrt(10), forget_means + 1.96 * np.array(forget_stds) / np.sqrt(10), alpha=0.3)\n",
    "ax.plot(frac_removed, rand_means, lw=1, label='Random')\n",
    "ax.fill_between(frac_removed, rand_means - 1.96 * np.array(rand_stds) / np.sqrt(10), rand_means + 1.96 * np.array(rand_stds) / np.sqrt(10), alpha=0.3)\n",
    "ax.set_xlabel('Percentage of training data removed')\n",
    "ax.set_ylabel('Validation Gini')\n",
    "ax.legend()\n",
    "fig.savefig('../outputs/figures/compare_hardness.pdf', dpi=300, bbox_inches='tight')"
   ]
  }
 ],
 "metadata": {
  "kernelspec": {
   "display_name": "amex",
   "language": "python",
   "name": "python3"
  },
  "language_info": {
   "codemirror_mode": {
    "name": "ipython",
    "version": 3
   },
   "file_extension": ".py",
   "mimetype": "text/x-python",
   "name": "python",
   "nbconvert_exporter": "python",
   "pygments_lexer": "ipython3",
   "version": "3.10.12"
  }
 },
 "nbformat": 4,
 "nbformat_minor": 2
}
